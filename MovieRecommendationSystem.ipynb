{
  "nbformat": 4,
  "nbformat_minor": 0,
  "metadata": {
    "colab": {
      "provenance": [],
      "authorship_tag": "ABX9TyO3QI2ADrvBGuXTcGRP/MLN",
      "include_colab_link": true
    },
    "kernelspec": {
      "name": "python3",
      "display_name": "Python 3"
    },
    "language_info": {
      "name": "python"
    }
  },
  "cells": [
    {
      "cell_type": "markdown",
      "metadata": {
        "id": "view-in-github",
        "colab_type": "text"
      },
      "source": [
        "<a href=\"https://colab.research.google.com/github/Rashijain07/rashi_jain/blob/main/MovieRecommendationSystem.ipynb\" target=\"_parent\"><img src=\"https://colab.research.google.com/assets/colab-badge.svg\" alt=\"Open In Colab\"/></a>"
      ]
    },
    {
      "cell_type": "markdown",
      "source": [
        "Importing the basic libraries"
      ],
      "metadata": {
        "id": "nfeZ3y-0sipb"
      }
    },
    {
      "cell_type": "code",
      "execution_count": 1,
      "metadata": {
        "id": "UK6PSpJH_Q_z"
      },
      "outputs": [],
      "source": [
        "import numpy as np\n",
        "import pandas as pd"
      ]
    },
    {
      "cell_type": "markdown",
      "source": [
        "Importing & Parsing the dataset as ratings and movies details"
      ],
      "metadata": {
        "id": "FVLn2xrPsav0"
      }
    },
    {
      "cell_type": "code",
      "source": [
        "ratingData= pd.io.parsers.read_csv(\"ratings.dat\",\n",
        "                                   names=[\"user_id\", \"movie_id\", \"rating\", \"time\"],\n",
        "                                   engine=\"python\", delimiter=\"::\")\n",
        "\n",
        "movieData = pd.read_csv(\"movies.dat\",\n",
        "                        names=[\"movie_id\", \"title\", \"genre\"],\n",
        "                        engine=\"python\",\n",
        "                        delimiter=\"::\",\n",
        "                        encoding=\"latin-1\")\n",
        "print(ratingData)"
      ],
      "metadata": {
        "colab": {
          "base_uri": "https://localhost:8080/"
        },
        "id": "6H5XWKvXj2WU",
        "outputId": "75ee4b85-0838-46c7-d866-074975302e16"
      },
      "execution_count": 7,
      "outputs": [
        {
          "output_type": "stream",
          "name": "stdout",
          "text": [
            "         user_id  movie_id  rating       time\n",
            "0              1      1193       5  978300760\n",
            "1              1       661       3  978302109\n",
            "2              1       914       3  978301968\n",
            "3              1      3408       4  978300275\n",
            "4              1      2355       5  978824291\n",
            "...          ...       ...     ...        ...\n",
            "1000204     6040      1091       1  956716541\n",
            "1000205     6040      1094       5  956704887\n",
            "1000206     6040       562       5  956704746\n",
            "1000207     6040      1096       4  956715648\n",
            "1000208     6040      1097       4  956715569\n",
            "\n",
            "[1000209 rows x 4 columns]\n"
          ]
        }
      ]
    },
    {
      "cell_type": "markdown",
      "source": [
        "Create the ratings matrix of shape(mxu)"
      ],
      "metadata": {
        "id": "fc-JBynksSuN"
      }
    },
    {
      "cell_type": "code",
      "source": [
        "ratingMatrix= np.ndarray(\n",
        "    shape=(np.max(ratingData.movie_id.values), np.max(ratingData.user_id.values)),\n",
        "    dtype=np.uint8)\n",
        "ratingMatrix[ratingData.movie_id.values-1, ratingData.user_id.values-1]= ratingData.rating.values\n",
        "print(ratingMatrix)"
      ],
      "metadata": {
        "colab": {
          "base_uri": "https://localhost:8080/"
        },
        "id": "_xLyIg5tmB6V",
        "outputId": "15be0473-af6f-48ae-ae13-087de94c9e2b"
      },
      "execution_count": 9,
      "outputs": [
        {
          "output_type": "stream",
          "name": "stdout",
          "text": [
            "[[  5 112  22 ... 122   0   3]\n",
            " [176 144 185 ... 122   0   0]\n",
            " [ 48 142 186 ... 122   0   0]\n",
            " ...\n",
            " [236  12   0 ...   0   0   0]\n",
            " [239  12   0 ...   0   0   0]\n",
            " [240  12   0 ...   0   0   0]]\n"
          ]
        }
      ]
    },
    {
      "cell_type": "markdown",
      "source": [
        "Subtract Mean off- Normalisation"
      ],
      "metadata": {
        "id": "HNTKbHzzsLjY"
      }
    },
    {
      "cell_type": "code",
      "source": [
        "import numpy as np\n",
        "\n",
        "# Assuming ratingMatrix is already defined\n",
        "mean_ratings = np.mean(ratingMatrix, axis=1)\n",
        "normalizedMatrix = ratingMatrix - mean_ratings[:, np.newaxis]\n",
        "print(normalizedMatrix)\n"
      ],
      "metadata": {
        "colab": {
          "base_uri": "https://localhost:8080/"
        },
        "id": "oFsTRq97ovVq",
        "outputId": "a646787c-8ec8-4950-cb3d-39f770224ccb"
      },
      "execution_count": 17,
      "outputs": [
        {
          "output_type": "stream",
          "name": "stdout",
          "text": [
            "[[-64.16655629  42.83344371 -47.16655629 ...  52.83344371 -69.16655629\n",
            "  -66.16655629]\n",
            " [ 80.55877483  48.55877483  89.55877483 ...  26.55877483 -95.44122517\n",
            "  -95.44122517]\n",
            " [-50.08195364  43.91804636  87.91804636 ...  23.91804636 -98.08195364\n",
            "  -98.08195364]\n",
            " ...\n",
            " [205.12549669 -18.87450331 -30.87450331 ... -30.87450331 -30.87450331\n",
            "  -30.87450331]\n",
            " [208.01423841 -18.98576159 -30.98576159 ... -30.98576159 -30.98576159\n",
            "  -30.98576159]\n",
            " [210.38261589 -17.61738411 -29.61738411 ... -29.61738411 -29.61738411\n",
            "  -29.61738411]]\n"
          ]
        }
      ]
    },
    {
      "cell_type": "markdown",
      "source": [
        "Computing SVD"
      ],
      "metadata": {
        "id": "ety5Pbw7sBk9"
      }
    },
    {
      "cell_type": "code",
      "source": [
        "A= normalizedMatrix.T / np.sqrt(ratingMatrix.shape[0]-1)\n",
        "U, S, V = np.linalg.svd(A)"
      ],
      "metadata": {
        "id": "ZdoExyMro3DG"
      },
      "execution_count": 18,
      "outputs": []
    },
    {
      "cell_type": "markdown",
      "source": [
        "Calculate cosine similarity, sort by most similar and return the top N"
      ],
      "metadata": {
        "id": "L3sBjJlvr4iQ"
      }
    },
    {
      "cell_type": "code",
      "source": [
        "def similar(ratingData, movie_id, top_n):\n",
        "  index=movie_id-1 #movie id starts from 1\n",
        "  movie_row=ratingData[index, :]\n",
        "  magnitude=np.sqrt(np.einsum(\"ij, ij -> i\", ratingData, ratingData)) #einstien summation\n",
        "  similarity=np.dot(movie_row, ratingData.T)\n",
        "  sort_indexes=np.argsort(-similarity)\n",
        "  return sort_indexes[:top_n]"
      ],
      "metadata": {
        "id": "vI949K99phRl"
      },
      "execution_count": 20,
      "outputs": []
    },
    {
      "cell_type": "markdown",
      "source": [
        "Select k principal components to represent the movies, a movie_id to find recommendations and print the top_n results"
      ],
      "metadata": {
        "id": "7tKmj63rrqCN"
      }
    },
    {
      "cell_type": "code",
      "source": [
        "k=50\n",
        "movie_id=12\n",
        "top_n=5\n",
        "\n",
        "sliced= V.T[:,:k] #representative data\n",
        "indexes= similar(sliced, movie_id, top_n)\n",
        "\n",
        "print(\"Recommendations for Movie {0}: \\n\".format(\n",
        "    movieData[movieData.movie_id==movie_id].title.values[0]))\n",
        "for id in indexes + 1:\n",
        "  print(movieData[movieData.movie_id==id].title.values[0])"
      ],
      "metadata": {
        "colab": {
          "base_uri": "https://localhost:8080/"
        },
        "id": "VTjJQmJOpmwu",
        "outputId": "d31bc0bd-8b5c-4bfa-e821-145951edc466"
      },
      "execution_count": 21,
      "outputs": [
        {
          "output_type": "stream",
          "name": "stdout",
          "text": [
            "Recommendations for Movie Dracula: Dead and Loving It (1995): \n",
            "\n",
            "Gumby: The Movie (1995)\n",
            "Dracula: Dead and Loving It (1995)\n",
            "Sliver (1993)\n",
            "Chasers (1994)\n",
            "Bushwhacked (1995)\n"
          ]
        }
      ]
    }
  ]
}